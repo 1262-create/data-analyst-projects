{
 "cells": [
  {
   "cell_type": "code",
   "execution_count": 5,
   "id": "bd8340dc-d37c-4cae-b615-87e0fb513071",
   "metadata": {},
   "outputs": [],
   "source": [
    "from bs4 import BeautifulSoup\n",
    "import requests\n",
    "import smtplib\n",
    "import time\n",
    "import datetime\n"
   ]
  },
  {
   "cell_type": "code",
   "execution_count": 6,
   "id": "a313a91f-246d-456d-bd1b-503fdf73fa02",
   "metadata": {},
   "outputs": [],
   "source": [
    "url='https://www.amazon.in/Heybroh-Mens-Regular-T-Shirt-Talk/dp/B0BTMX5C17/ref=sr_1_7?crid=WREW5MWD840O&dib=eyJ2IjoiMSJ9.swzRahqBJEbRwM4kWFJmJDeiMfgA5U7IumjekYGGtGZPbqABqZFVx6ka_bJ6wJl_Ja3OWEZqUjCYKs-blGItqReQ5BiYYW0yDD1eiJQZcTpzckeY0e6JX5uL4wAVFEPmfP5965ZZvPr-SZc81Pq04WObi0QjhLfD52TcW045bBx8occ8hPJSggyfOoRWcj2bYLZoxVJpCJsq8lBAhz1fPfK2rtx0ECmM7aLSENE70DsahZqacYO1UGBC0loqhYlFrp-6bvOV0_-u5lIS8TYiI6d0jF92ITw_Xhq7RpTUgikQubF2uNzq4e8VRNecHJPGYP5qArq5EAq9nf97t5iPNhe9dw59HQxO9HSB0jpPfZhP8wMOu7kcBtuoFqHubuWTbeVUcKa-xkPEcmrEeUivWGjPxBCAU6o9_8xeDeunvoYA-hw04FqvDKrFxYEjTmmc._N6_QwssSqYSwJI40L-ZyMHVD_RAfG_rc7Y-OmI-wG8&dib_tag=se&keywords=funny%2Bgot%2Bdata%2Bmis%2Bdata%2Bsystems%2Bbusiness%2Banalyst%2Bt%2Bshirt%2Bgot%2Bdata&nsdOptOutParam=true&qid=1737649591&sprefix=funny%2Bgot%2Bdata%2Bmis%2Bdata%2Bsystems%2Bbusiness%2Banalyst%2Bt%2Bshirt%2Bgot%2Bdata%2Caps%2C309&sr=8-7&th=1&psc=1'\n",
    "headers = {\n",
    "   \"User-Agent\": \"Mozilla/5.0 (Windows NT 10.0; Win64; x64) AppleWebKit/537.36 (KHTML, like Gecko) Chrome/114.0.0.0 Safari/537.36\"\n",
    "}"
   ]
  },
  {
   "cell_type": "code",
   "execution_count": 7,
   "id": "efb87bb9-f9aa-480c-a4d2-b1b0bbdc77f7",
   "metadata": {},
   "outputs": [],
   "source": [
    "page=requests.get(url,headers=headers)"
   ]
  },
  {
   "cell_type": "code",
   "execution_count": 10,
   "id": "adf311af-69a1-45aa-afcf-f2625fbda5c3",
   "metadata": {},
   "outputs": [],
   "source": [
    "soup1=BeautifulSoup(page.content,'html.parser')\n",
    "soup2=BeautifulSoup(soup1.prettify(),'html.parser')\n"
   ]
  },
  {
   "cell_type": "code",
   "execution_count": 11,
   "id": "39b7cd46-74e0-45de-9f85-e999af50e7a0",
   "metadata": {},
   "outputs": [
    {
     "name": "stdout",
     "output_type": "stream",
     "text": [
      "200\n"
     ]
    }
   ],
   "source": [
    "print(page.status_code)\n",
    "\n"
   ]
  },
  {
   "cell_type": "code",
   "execution_count": 12,
   "id": "a47574d1-9006-42bd-abc5-255388f0d08d",
   "metadata": {},
   "outputs": [
    {
     "name": "stdout",
     "output_type": "stream",
     "text": [
      "Heybroh Men's Regular Fit T-Shirt Talk Data to Me - Data Scientist Funny 100% Cotton T-Shirt\n",
      "899\n"
     ]
    }
   ],
   "source": [
    "title=soup2.find(id=\"productTitle\").get_text()\n",
    "price=soup2.find('span',class_=\"a-price-whole\").get_text()\n",
    "title=title.strip()\n",
    "price=price.strip()\n",
    "print(title)\n",
    "print(price)\n",
    "date=datetime.date.today()"
   ]
  },
  {
   "cell_type": "code",
   "execution_count": 14,
   "id": "2d280f17-783b-45a5-899f-0aba2844871b",
   "metadata": {},
   "outputs": [],
   "source": [
    "# now we our appending it to csvimport csv\n",
    "import csv\n",
    "header=['Title','price','date']\n",
    "data=[title,price,date]\n",
    "\n",
    "with open('amazonscrapping.csv','w', newline='',encoding='UTF8')as f:\n",
    "    writer=csv.writer(f)\n",
    "    writer.writerow(header)\n",
    "    writer.writerow(data)\n",
    "\n"
   ]
  },
  {
   "cell_type": "code",
   "execution_count": 15,
   "id": "8c4f11da-9de9-4151-8665-d9d873599009",
   "metadata": {},
   "outputs": [
    {
     "data": {
      "text/html": [
       "<div>\n",
       "<style scoped>\n",
       "    .dataframe tbody tr th:only-of-type {\n",
       "        vertical-align: middle;\n",
       "    }\n",
       "\n",
       "    .dataframe tbody tr th {\n",
       "        vertical-align: top;\n",
       "    }\n",
       "\n",
       "    .dataframe thead th {\n",
       "        text-align: right;\n",
       "    }\n",
       "</style>\n",
       "<table border=\"1\" class=\"dataframe\">\n",
       "  <thead>\n",
       "    <tr style=\"text-align: right;\">\n",
       "      <th></th>\n",
       "      <th>Title</th>\n",
       "      <th>price</th>\n",
       "      <th>date</th>\n",
       "    </tr>\n",
       "  </thead>\n",
       "  <tbody>\n",
       "    <tr>\n",
       "      <th>0</th>\n",
       "      <td>Heybroh Men's Regular Fit T-Shirt Talk Data to...</td>\n",
       "      <td>899</td>\n",
       "      <td>2025-01-31</td>\n",
       "    </tr>\n",
       "  </tbody>\n",
       "</table>\n",
       "</div>"
      ],
      "text/plain": [
       "                                               Title  price        date\n",
       "0  Heybroh Men's Regular Fit T-Shirt Talk Data to...    899  2025-01-31"
      ]
     },
     "execution_count": 15,
     "metadata": {},
     "output_type": "execute_result"
    }
   ],
   "source": [
    "import pandas as pd\n",
    "pd.read_csv(r\"C:\\Users\\asus\\amazonscrapping.csv\")"
   ]
  },
  {
   "cell_type": "code",
   "execution_count": 21,
   "id": "1715fca9-f3de-4c89-8a5b-63bf4f8c0608",
   "metadata": {},
   "outputs": [],
   "source": [
    "# now we our appending it to csv\n",
    "\n",
    "\n",
    "with open('amazonscrapping.csv','a+', newline='',encoding='UTF8')as f:\n",
    "    writer=csv.writer(f)\n",
    "    writer.writerow(data)\n"
   ]
  },
  {
   "cell_type": "code",
   "execution_count": null,
   "id": "a082eb54-fa88-4965-ac90-9678f27752c9",
   "metadata": {},
   "outputs": [
    {
     "name": "stdout",
     "output_type": "stream",
     "text": [
      "Data added: [\"Heybroh Men's Regular Fit T-Shirt Talk Data to Me - Data Scientist Funny 100% Cotton T-Shirt\", '899', datetime.date(2025, 1, 27)]\n",
      "Data added: [\"Heybroh Men's Regular Fit T-Shirt Talk Data to Me - Data Scientist Funny 100% Cotton T-Shirt\", '899', datetime.date(2025, 1, 27)]\n",
      "Data added: [\"Heybroh Men's Regular Fit T-Shirt Talk Data to Me - Data Scientist Funny 100% Cotton T-Shirt\", '899', datetime.date(2025, 1, 27)]\n",
      "Data added: [\"Heybroh Men's Regular Fit T-Shirt Talk Data to Me - Data Scientist Funny 100% Cotton T-Shirt\", '899', datetime.date(2025, 1, 27)]\n",
      "Data added: [\"Heybroh Men's Regular Fit T-Shirt Talk Data to Me - Data Scientist Funny 100% Cotton T-Shirt\", '899', datetime.date(2025, 1, 27)]\n",
      "Data added: [\"Heybroh Men's Regular Fit T-Shirt Talk Data to Me - Data Scientist Funny 100% Cotton T-Shirt\", '899', datetime.date(2025, 1, 27)]\n",
      "Data added: [\"Heybroh Men's Regular Fit T-Shirt Talk Data to Me - Data Scientist Funny 100% Cotton T-Shirt\", '899', datetime.date(2025, 1, 27)]\n",
      "Data added: [\"Heybroh Men's Regular Fit T-Shirt Talk Data to Me - Data Scientist Funny 100% Cotton T-Shirt\", '899', datetime.date(2025, 1, 27)]\n",
      "Data added: [\"Heybroh Men's Regular Fit T-Shirt Talk Data to Me - Data Scientist Funny 100% Cotton T-Shirt\", '899', datetime.date(2025, 1, 27)]\n",
      "Data added: [\"Heybroh Men's Regular Fit T-Shirt Talk Data to Me - Data Scientist Funny 100% Cotton T-Shirt\", '899', datetime.date(2025, 1, 27)]\n",
      "Data added: [\"Heybroh Men's Regular Fit T-Shirt Talk Data to Me - Data Scientist Funny 100% Cotton T-Shirt\", '899', datetime.date(2025, 1, 27)]\n",
      "Data added: [\"Heybroh Men's Regular Fit T-Shirt Talk Data to Me - Data Scientist Funny 100% Cotton T-Shirt\", '899', datetime.date(2025, 1, 27)]\n",
      "Data added: [\"Heybroh Men's Regular Fit T-Shirt Talk Data to Me - Data Scientist Funny 100% Cotton T-Shirt\", '899', datetime.date(2025, 1, 27)]\n",
      "Data added: [\"Heybroh Men's Regular Fit T-Shirt Talk Data to Me - Data Scientist Funny 100% Cotton T-Shirt\", '899', datetime.date(2025, 1, 27)]\n",
      "Data added: [\"Heybroh Men's Regular Fit T-Shirt Talk Data to Me - Data Scientist Funny 100% Cotton T-Shirt\", '899', datetime.date(2025, 1, 27)]\n",
      "Data added: [\"Heybroh Men's Regular Fit T-Shirt Talk Data to Me - Data Scientist Funny 100% Cotton T-Shirt\", '899', datetime.date(2025, 1, 27)]\n"
     ]
    }
   ],
   "source": [
    "\n",
    "\n",
    "def check_price():\n",
    "    url = 'https://www.amazon.in/Heybroh-Mens-Regular-T-Shirt-Talk/dp/B0BTMX5C17/ref=sr_1_7'\n",
    "    headers = {\n",
    "        \"User-Agent\": \"Mozilla/5.0 (Windows NT 10.0; Win64; x64) AppleWebKit/537.36 (KHTML, like Gecko) Chrome/114.0.0.0 Safari/537.36\"\n",
    "    }\n",
    "    \n",
    " \n",
    "    page = requests.get(url, headers=headers)\n",
    "    soup1 = BeautifulSoup(page.content, 'html.parser')\n",
    "    soup2 = BeautifulSoup(soup1.prettify(), 'html.parser')\n",
    "    \n",
    "   \n",
    "    title = soup2.find(id=\"productTitle\").get_text().strip()\n",
    "    price = soup2.find('span', class_=\"a-price-whole\").get_text().strip()\n",
    "    date = datetime.date.today()\n",
    "    \n",
    " \n",
    "    data = [title, price, date]\n",
    "    \n",
    "    \n",
    "    with open('amazonscrapping.csv', 'a+', newline='', encoding='UTF8') as f:\n",
    "        writer = csv.writer(f)\n",
    "        writer.writerow(data)\n",
    "    \n",
    "    print(f\"Data added:\" ,data)\n",
    "\n",
    "\n",
    "# Infinite loop to repeatedly check the price\n",
    "while True:\n",
    "    check_price()\n",
    "    time.sleep(3600)\n",
    "      # Check the price every hour (24 hrs)\n"
   ]
  },
  {
   "cell_type": "code",
   "execution_count": 27,
   "id": "0c72691c-0799-4e5c-a79a-a2de5ef8267e",
   "metadata": {},
   "outputs": [
    {
     "data": {
      "text/html": [
       "<div>\n",
       "<style scoped>\n",
       "    .dataframe tbody tr th:only-of-type {\n",
       "        vertical-align: middle;\n",
       "    }\n",
       "\n",
       "    .dataframe tbody tr th {\n",
       "        vertical-align: top;\n",
       "    }\n",
       "\n",
       "    .dataframe thead th {\n",
       "        text-align: right;\n",
       "    }\n",
       "</style>\n",
       "<table border=\"1\" class=\"dataframe\">\n",
       "  <thead>\n",
       "    <tr style=\"text-align: right;\">\n",
       "      <th></th>\n",
       "      <th>Title</th>\n",
       "      <th>price</th>\n",
       "      <th>date</th>\n",
       "    </tr>\n",
       "  </thead>\n",
       "  <tbody>\n",
       "    <tr>\n",
       "      <th>0</th>\n",
       "      <td>Heybroh Men's Regular Fit T-Shirt Talk Data to...</td>\n",
       "      <td>899</td>\n",
       "      <td>2025-01-25</td>\n",
       "    </tr>\n",
       "    <tr>\n",
       "      <th>1</th>\n",
       "      <td>Heybroh Men's Regular Fit T-Shirt Talk Data to...</td>\n",
       "      <td>899</td>\n",
       "      <td>2025-01-25</td>\n",
       "    </tr>\n",
       "    <tr>\n",
       "      <th>2</th>\n",
       "      <td>Heybroh Men's Regular Fit T-Shirt Talk Data to...</td>\n",
       "      <td>899</td>\n",
       "      <td>2025-01-25</td>\n",
       "    </tr>\n",
       "    <tr>\n",
       "      <th>3</th>\n",
       "      <td>Heybroh Men's Regular Fit T-Shirt Talk Data to...</td>\n",
       "      <td>899</td>\n",
       "      <td>2025-01-25</td>\n",
       "    </tr>\n",
       "    <tr>\n",
       "      <th>4</th>\n",
       "      <td>Heybroh Men's Regular Fit T-Shirt Talk Data to...</td>\n",
       "      <td>899</td>\n",
       "      <td>2025-01-25</td>\n",
       "    </tr>\n",
       "    <tr>\n",
       "      <th>5</th>\n",
       "      <td>Heybroh Men's Regular Fit T-Shirt Talk Data to...</td>\n",
       "      <td>899</td>\n",
       "      <td>2025-01-25</td>\n",
       "    </tr>\n",
       "    <tr>\n",
       "      <th>6</th>\n",
       "      <td>Heybroh Men's Regular Fit T-Shirt Talk Data to...</td>\n",
       "      <td>899</td>\n",
       "      <td>2025-01-25</td>\n",
       "    </tr>\n",
       "  </tbody>\n",
       "</table>\n",
       "</div>"
      ],
      "text/plain": [
       "                                               Title  price        date\n",
       "0  Heybroh Men's Regular Fit T-Shirt Talk Data to...    899  2025-01-25\n",
       "1  Heybroh Men's Regular Fit T-Shirt Talk Data to...    899  2025-01-25\n",
       "2  Heybroh Men's Regular Fit T-Shirt Talk Data to...    899  2025-01-25\n",
       "3  Heybroh Men's Regular Fit T-Shirt Talk Data to...    899  2025-01-25\n",
       "4  Heybroh Men's Regular Fit T-Shirt Talk Data to...    899  2025-01-25\n",
       "5  Heybroh Men's Regular Fit T-Shirt Talk Data to...    899  2025-01-25\n",
       "6  Heybroh Men's Regular Fit T-Shirt Talk Data to...    899  2025-01-25"
      ]
     },
     "execution_count": 27,
     "metadata": {},
     "output_type": "execute_result"
    }
   ],
   "source": [
    "import pandas as pd\n",
    "pd.read_csv(r\"C:\\Users\\asus\\amazonscrapping.csv\")"
   ]
  },
  {
   "cell_type": "code",
   "execution_count": null,
   "id": "827c3ec5-1b8f-48b9-aa71-ccc1b6c62b85",
   "metadata": {},
   "outputs": [],
   "source": []
  }
 ],
 "metadata": {
  "kernelspec": {
   "display_name": "Python 3 (ipykernel)",
   "language": "python",
   "name": "python3"
  },
  "language_info": {
   "codemirror_mode": {
    "name": "ipython",
    "version": 3
   },
   "file_extension": ".py",
   "mimetype": "text/x-python",
   "name": "python",
   "nbconvert_exporter": "python",
   "pygments_lexer": "ipython3",
   "version": "3.12.7"
  }
 },
 "nbformat": 4,
 "nbformat_minor": 5
}
